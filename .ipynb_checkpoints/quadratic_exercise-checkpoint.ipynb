{
 "cells": [
  {
   "cell_type": "markdown",
   "metadata": {},
   "source": [
    "## Solve a quadratic equation, $x^2 + b x + c = 0$."
   ]
  },
  {
   "cell_type": "code",
   "execution_count": 67,
   "metadata": {},
   "outputs": [],
   "source": [
    "import numpy as np\n",
    "def solve_quad(b, c):\n",
    "    \"\"\"Solve a quadratic equation, x**2 + bx + c = 0.\n",
    "    \n",
    "    Parameters\n",
    "    ----------\n",
    "    b, c : float\n",
    "       Coefficients\n",
    "       \n",
    "    Returns\n",
    "    -------\n",
    "    x1, x2 : float or complex\n",
    "       Roots.\n",
    "    \"\"\"\n",
    "    descr = b ** 2 - 4 * c\n",
    "    if type (descr) == complex:\n",
    "            kor_descr = (((descr.imag**2 + descr.real**2)**(1/2) + descr.real)/2)**(1/2) +  ((((descr.imag**2 + descr.real**2)**(1/2) - descr.real)/2)**(1/2))*(1j)\n",
    "            descr = 1\n",
    "    \n",
    "    if descr >= 0:\n",
    "        kor_descr = descr**(1/2)\n",
    "        if descr == 0:\n",
    "            x1 = x2 = -b / 2 \n",
    "        else:\n",
    "            x1 = (-b + kor_descr)/2\n",
    "            x2 = (-b - kor_descr)/2\n",
    "        return x1, x2\n",
    "    else:\n",
    "        kor_descr =  (- descr)**(1/2)*(1j)\n",
    "        x1 = (-b + kor_descr)/2\n",
    "        x2 = (-b - kor_descr)/2\n",
    "        return x1, x2"
   ]
  },
  {
   "cell_type": "markdown",
   "metadata": {},
   "source": [
    "Test the function"
   ]
  },
  {
   "cell_type": "code",
   "execution_count": 2,
   "metadata": {},
   "outputs": [],
   "source": [
    "from numpy import allclose"
   ]
  },
  {
   "cell_type": "code",
   "execution_count": 3,
   "metadata": {},
   "outputs": [],
   "source": [
    "variants = [{'b': 4.0, 'c': 3.0},\n",
    "            {'b': 2.0, 'c': 1.0},\n",
    "            {'b': 0.5, 'c': 4.0},\n",
    "            {'b': 1e10, 'c': 3.0},\n",
    "            {'b': -1e10, 'c': 4.0},]"
   ]
  },
  {
   "cell_type": "code",
   "execution_count": 68,
   "metadata": {},
   "outputs": [
    {
     "name": "stdout",
     "output_type": "stream",
     "text": [
      "x1 =  -1.0 x2 =  -3.0 True\n",
      "x1 =  -1.0 x2 =  -1.0 True\n",
      "x1 =  (-0.25+1.984313483298443j) x2 =  (-0.25-1.984313483298443j) True\n",
      "x1 =  0.0 x2 =  -10000000000.0 False\n",
      "x1 =  10000000000.0 x2 =  0.0 False\n"
     ]
    }
   ],
   "source": [
    "for var in variants:\n",
    "    x1, x2 = solve_quad(**var)\n",
    "    print('x1 = ', x1, 'x2 = ', x2, allclose(x1*x2, var['c']))"
   ]
  },
  {
   "cell_type": "code",
   "execution_count": 65,
   "metadata": {},
   "outputs": [
    {
     "name": "stdout",
     "output_type": "stream",
     "text": [
      "-3\n"
     ]
    },
    {
     "data": {
      "text/plain": [
       "((-1.5+0.8660254037844386j), (-1.5-0.8660254037844386j))"
      ]
     },
     "execution_count": 65,
     "metadata": {},
     "output_type": "execute_result"
    }
   ],
   "source": [
    "# solve_quad (-7+2j, 13-13j)\n",
    "solve_quad (3, 3)\n",
    "# type (de)"
   ]
  }
 ],
 "metadata": {
  "kernelspec": {
   "display_name": "Python 3",
   "language": "python",
   "name": "python3"
  },
  "language_info": {
   "codemirror_mode": {
    "name": "ipython",
    "version": 3
   },
   "file_extension": ".py",
   "mimetype": "text/x-python",
   "name": "python",
   "nbconvert_exporter": "python",
   "pygments_lexer": "ipython3",
   "version": "3.6.5"
  }
 },
 "nbformat": 4,
 "nbformat_minor": 2
}
