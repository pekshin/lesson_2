{
 "cells": [
  {
   "cell_type": "code",
   "execution_count": 1,
   "metadata": {},
   "outputs": [
    {
     "data": {
      "text/plain": [
       "(-0.9999971040957747+1.752280370864636e-05j)"
      ]
     },
     "execution_count": 1,
     "metadata": {},
     "output_type": "execute_result"
    }
   ],
   "source": [
    "def g(x):\n",
    "    return x ** 3 + 1\n",
    "\n",
    "def gprime(x):\n",
    "    return 3 * x**2\n",
    "\n",
    "def solve_x3(x0, eps=1e-2):\n",
    "    n_iter = 0\n",
    "    x_curr = x0\n",
    "    while n_iter < 20:\n",
    "        n_iter += 1\n",
    "        x_next = x_curr\n",
    "        x_curr = x_curr-g(x_curr)/gprime(x_curr)\n",
    "        if (abs(x_curr-x_next)) < eps:\n",
    "            break\n",
    "    return x_curr\n",
    "solve_x3 (-6+6j)"
   ]
  },
  {
   "cell_type": "code",
   "execution_count": 2,
   "metadata": {},
   "outputs": [
    {
     "data": {
      "image/png": "[encoded data removed]",
      "text/plain": [
       "<Figure size 432x288 with 1 Axes>"
      ]
     },
     "metadata": {},
     "output_type": "display_data"
    }
   ],
   "source": [
    "import matplotlib.pyplot as plt\n",
    "%matplotlib inline\n",
    "\n",
    "x = []\n",
    "y = []\n",
    "answers = [-1,0.5 + 0.866j,0.5-0.866j]\n",
    "\n",
    "fig, ax = plt.subplots()\n",
    "x = [[],[],[]]\n",
    "y = [[],[],[]]\n",
    "for i in range (-300, 300):\n",
    "    for j in range (-300, 300):\n",
    "        if i != 0 and j != 0:\n",
    "            a = solve_x3 ((i + j * (1j)) / 600) \n",
    "            for z in range(len(answers)):\n",
    "                if abs(a-answers[z]) < 1e-2:\n",
    "                    x[z].append ([i])\n",
    "                    y[z].append ([j])\n",
    "i = 0\n",
    "colors = ['y','b','r']\n",
    "for z in range (len(answers)):\n",
    "    ax.plot(x[z],y[z], 'o', c=colors[i])\n",
    "    i += 1\n",
    "    \n",
    "\n",
    "# ax.plot(x,y, '--')\n",
    "# ax.plot (1, solve_x3 (1),'o')"
   ]
  },
  {
   "cell_type": "code",
   "execution_count": null,
   "metadata": {},
   "outputs": [],
   "source": []
  }
 ],
 "metadata": {
  "kernelspec": {
   "display_name": "Python 3",
   "language": "python",
   "name": "python3"
  },
  "language_info": {
   "codemirror_mode": {
    "name": "ipython",
    "version": 3
   },
   "file_extension": ".py",
   "mimetype": "text/x-python",
   "name": "python",
   "nbconvert_exporter": "python",
   "pygments_lexer": "ipython3",
   "version": "3.6.5"
  }
 },
 "nbformat": 4,
 "nbformat_minor": 2
}
