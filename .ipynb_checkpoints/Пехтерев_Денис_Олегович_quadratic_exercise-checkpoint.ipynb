{
 "cells": [
  {
   "attachments": {},
   "cell_type": "markdown",
   "metadata": {},
   "source": [
    "## Solve a quadratic equation, $x^2 + b x + c = 0$.\n"
   ]
  },
  {
   "cell_type": "code",
   "execution_count": 1,
   "metadata": {},
   "outputs": [],
   "source": [
    "import numpy as np\n",
    "\n",
    "def d_4(b, c):\n",
    "    if b > 10 ** 7 or c > 10 ** 7:\n",
    "        b = float(b)\n",
    "        c = float(c)\n",
    "    descr = (b / 2) ** 2 - c\n",
    "\n",
    "    if (descr) ** (1 / 2) == abs(b / 2):\n",
    "        x1 = -b\n",
    "        x2 = -c / b\n",
    "        return x1, x2\n",
    "\n",
    "    else:\n",
    "        kor_descr = (descr) ** (1 / 2)\n",
    "        x1 = (-b / 2 + kor_descr)\n",
    "        x2 = (-b / 2 - kor_descr)\n",
    "        return x1, x2\n",
    "\n",
    "\n",
    "def solve_quad(b, c):\n",
    "    b = float(b)\n",
    "    c = float(c)\n",
    "    \"\"\"Solve a quadratic equation, x**2 + bx + c = 0.\n",
    "\n",
    "    Parameters\n",
    "    ----------\n",
    "    b, c : float\n",
    "       Coefficients\n",
    "\n",
    "    Returns\n",
    "    -------\n",
    "    x1, x2 : float or complex\n",
    "       Roots.\n",
    "    \"\"\"\n",
    "    descr = b ** 2 - 4 * c\n",
    "    if type(descr) == complex:\n",
    "        kor_descr = (((descr.imag ** 2 + descr.real ** 2) ** (1 / 2) + descr.real) / 2) ** (1 / 2) + (\n",
    "                (((descr.imag ** 2 + descr.real ** 2) ** (1 / 2) - descr.real) / 2) ** (1 / 2)) * (1j)\n",
    "        descr = 1\n",
    "\n",
    "    if descr >= 0:\n",
    "        kor_descr = descr ** (1 / 2)\n",
    "        if descr == 0:\n",
    "            x1 = x2 = -b / 2\n",
    "        else:\n",
    "            x1 = ((-b + kor_descr) / 2)\n",
    "            x2 = ((-b - kor_descr) / 2)\n",
    "        return x1, x2\n",
    "    else:\n",
    "        kor_descr = (- descr) ** (1 / 2) * (1j)\n",
    "        x1 = (-b + kor_descr) / 2\n",
    "        x2 = (-b - kor_descr) / 2\n",
    "        return x1, x2"
   ]
  },
  {
   "cell_type": "markdown",
   "metadata": {},
   "source": [
    "Test the function"
   ]
  },
  {
   "cell_type": "code",
   "execution_count": 2,
   "metadata": {},
   "outputs": [],
   "source": [
    "from numpy import allclose"
   ]
  },
  {
   "cell_type": "code",
   "execution_count": 3,
   "metadata": {},
   "outputs": [],
   "source": [
    "variants = [{'b': 4.0, 'c': 3.0},\n",
    "            {'b': 2.0, 'c': 1.0},\n",
    "            {'b': 0.5, 'c': 4.0},\n",
    "            {'b': 1e10, 'c': 3.0},\n",
    "            {'b': -1e10, 'c': 4.0},\n",
    "            {'b': 1e10, 'c': 2.0},\n",
    "            {'b': -2e10, 'c': 1.0},\n",
    "            {'b': -15, 'c': 45},\n",
    "            {'b': 20, 'c': 3}]"
   ]
  },
  {
   "cell_type": "code",
   "execution_count": 4,
   "metadata": {},
   "outputs": [
    {
     "name": "stdout",
     "output_type": "stream",
     "text": [
      "x1 =  -1.0 x2 =  -3.0 True\n",
      "x1 =  -1.0 x2 =  -1.0 True\n",
      "x1 =  (-0.2499999999999999+1.984313483298443j) x2 =  (-0.2500000000000001-1.984313483298443j) True\n",
      "x1 =  -10000000000.0 x2 =  -3e-10 True\n",
      "x1 =  10000000000.0 x2 =  4e-10 True\n",
      "x1 =  -10000000000.0 x2 =  -2e-10 True\n",
      "x1 =  20000000000.0 x2 =  5e-11 True\n",
      "x1 =  10.854101966249685 x2 =  4.145898033750315 True\n",
      "x1 =  -0.15114219820389607 x2 =  -19.848857801796104 True\n"
     ]
    }
   ],
   "source": [
    "for var in variants:\n",
    "    x1, x2 = d_4(**var)\n",
    "    print('x1 = ', x1, 'x2 = ', x2, allclose(x1*x2, var['c']))"
   ]
  }
 ],
 "metadata": {
  "kernelspec": {
   "display_name": "Python 3",
   "language": "python",
   "name": "python3"
  },
  "language_info": {
   "codemirror_mode": {
    "name": "ipython",
    "version": 3
   },
   "file_extension": ".py",
   "mimetype": "text/x-python",
   "name": "python",
   "nbconvert_exporter": "python",
   "pygments_lexer": "ipython3",
   "version": "3.6.5"
  }
 },
 "nbformat": 4,
 "nbformat_minor": 2
}
